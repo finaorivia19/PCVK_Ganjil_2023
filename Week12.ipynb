{
  "nbformat": 4,
  "nbformat_minor": 0,
  "metadata": {
    "colab": {
      "provenance": [],
      "mount_file_id": "1AdC_n2b9RXJxk1hmEXs8Hdd_lBfc-Liz",
      "authorship_tag": "ABX9TyODN+OK4VOVXFel683spDUd",
      "include_colab_link": true
    },
    "kernelspec": {
      "name": "python3",
      "display_name": "Python 3"
    },
    "language_info": {
      "name": "python"
    }
  },
  "cells": [
    {
      "cell_type": "markdown",
      "metadata": {
        "id": "view-in-github",
        "colab_type": "text"
      },
      "source": [
        "<a href=\"https://colab.research.google.com/github/finaorivia19/PCVK_Ganjil_2023/blob/main/Week12.ipynb\" target=\"_parent\"><img src=\"https://colab.research.google.com/assets/colab-badge.svg\" alt=\"Open In Colab\"/></a>"
      ]
    },
    {
      "cell_type": "code",
      "execution_count": 2,
      "metadata": {
        "id": "IDW6i96QTY4a"
      },
      "outputs": [],
      "source": [
        "import cv2 as cv\n",
        "import numpy as np\n",
        "from matplotlib import pyplot as plt"
      ]
    },
    {
      "cell_type": "code",
      "source": [
        "# nomer 2 (face det)\n",
        "cascade_wajah = cv.CascadeClassifier('/content/drive/MyDrive/PCVK/Images/Face Detection/haarcascade_frontalface_alt.xml')\n",
        "\n"
      ],
      "metadata": {
        "id": "oSvW6936U8pm"
      },
      "execution_count": 3,
      "outputs": []
    }
  ]
}